{
 "cells": [
  {
   "cell_type": "markdown",
   "metadata": {
    "_uuid": "d95d6c60f05dfa22023369c0d81960a914136398"
   },
   "source": [
    "# IMDB Data EDA\n",
    "\n",
    "## Data\n",
    "\n",
    "Two datasets:\n",
    "- tmdb_5000_movies.csv\n",
    "- movie_metadata.csv\n",
    "\n",
    "\n",
    "## Goal\n",
    "\n",
    "What makes a profitable movie?\n",
    "\n",
    "\n",
    "## Index\n",
    "\n",
    "1- Loading and merging datasets\n",
    "\n",
    "2- What makes gross revenue increase? How are these variables related to each other?\n",
    "\n",
    "3- What actors and directors have the highest budget to gross ratio?\n",
    "\n",
    "4- What movies where the biggest flops? Are there factors that are associated with flops?\n",
    "\n",
    "5- What countries make the most profitable and valued films?\n"
   ]
  },
  {
   "cell_type": "markdown",
   "metadata": {
    "_uuid": "028a07f58a57771170f80349f176ea930d49c06a"
   },
   "source": [
    "### 1- Loading, cleaning and merging datasets\n",
    "\n",
    "We'll need to load the datasets, analyze their content and quality, clean de unnecessary columns, create categorical features where needed and finally merge everything into a common and usable Pandas Dataframe. "
   ]
  },
  {
   "cell_type": "code",
   "execution_count": null,
   "metadata": {
    "_uuid": "303e9d84603e5d4bbf7bd4a6e6a430f6d9d5bc5b",
    "collapsed": true
   },
   "outputs": [],
   "source": [
    "# Import the needed libraries for the EDA\n",
    "\n",
    "import pandas as pd\n",
    "import numpy as np\n",
    "import matplotlib.pyplot as plt\n",
    "import seaborn as sns\n",
    "import warnings\n",
    "import re\n",
    "\n",
    "warnings.filterwarnings('ignore')\n",
    "%matplotlib inline"
   ]
  },
  {
   "cell_type": "code",
   "execution_count": null,
   "metadata": {
    "_kg_hide-input": false,
    "_uuid": "3f2111225aa4c7da508aedf97822be22635052ac",
    "scrolled": false
   },
   "outputs": [],
   "source": [
    "#Import the three downloaded datasets into DFs and review the first 10 entries\n",
    "\n",
    "df_movies = pd.read_csv('../input/tmdb-movie-metadata/tmdb_5000_movies.csv')\n",
    "df_metadata = pd.read_csv('../input/imdb-data/movie_metadata.csv')\n",
    "\n",
    "print(\"Movies DF:\\n\\n{}\\n\".format(df_movies.head()))\n",
    "print(\"Metadata DF:\\n\\n{}\".format(df_metadata.head()))"
   ]
  },
  {
   "cell_type": "markdown",
   "metadata": {
    "_uuid": "27c9b2fc9a58395161999935e1b45bceede753cf"
   },
   "source": [
    "Let's see what kind of data are we working with"
   ]
  },
  {
   "cell_type": "code",
   "execution_count": null,
   "metadata": {
    "_uuid": "a4641184c98cdd3c802e0365afdddbcbb096b35e",
    "scrolled": false
   },
   "outputs": [],
   "source": [
    "print(\"Movies DF:\\n\")\n",
    "print(df_movies.info(),\"\\n\\n\")\n",
    "print(df_movies.describe(),\"\\n\\n\")\n",
    "print(df_movies['original_language'].value_counts())\n",
    "print(\"\\n{}\".format(df_movies['status'].value_counts()))\n",
    "print(\"\\n\\nNulls:\\n\\n{}\\n\\n**************************************\\n\\n\".format(df_movies.isnull().sum()))\n",
    "\n",
    "print(\"Metadata DF:\\n\")\n",
    "print(df_metadata.info(),\"\\n\\n\")\n",
    "print(df_metadata.describe(),\"\\n\\n\")\n",
    "print(df_metadata['color'].value_counts())\n",
    "print(\"\\n{}\".format(df_metadata['content_rating'].value_counts()))\n",
    "print(\"\\n{}\".format(df_metadata['aspect_ratio'].value_counts()))\n",
    "print(\"\\n\\nNulls:\\n\\n{}\\n\\n**************************************\\n\\n\".format(df_metadata.isnull().sum()))"
   ]
  },
  {
   "cell_type": "markdown",
   "metadata": {
    "_uuid": "05a72f47e180bf66310ce2b5ca6d8a24f52de239"
   },
   "source": [
    "We can see from the list of columns that some of them are repeated, let's get rid of them"
   ]
  },
  {
   "cell_type": "code",
   "execution_count": null,
   "metadata": {
    "_uuid": "f0cdf420cca81177df517b7515153c6354829860",
    "collapsed": true
   },
   "outputs": [],
   "source": [
    "df_metadata.drop(['num_critic_for_reviews','duration','gross','genres',\n",
    "                 'num_voted_users','plot_keywords','num_user_for_reviews',\n",
    "                 'budget','title_year','imdb_score'],axis=1,inplace=True)\n",
    "\n",
    "#We can also get rid of the text description of the films, as it won't be necessary for our study\n",
    "df_movies.drop('overview',axis=1,inplace=True)\n",
    "\n",
    "#And we can drop the production country and language columns and keep the country and language from metadata\n",
    "df_movies.drop(['production_countries','spoken_languages'],axis=1,inplace=True)"
   ]
  },
  {
   "cell_type": "markdown",
   "metadata": {
    "_uuid": "daadba7bb6dac009ac383eb859a1bb06081bbcd5"
   },
   "source": [
    "We should change categorical data and dictionaries into columns for easier manipulation and visualization"
   ]
  },
  {
   "cell_type": "code",
   "execution_count": null,
   "metadata": {
    "_uuid": "5ae67565261b2ba7065b5e6bbd0d7acf0012e0e6",
    "collapsed": true
   },
   "outputs": [],
   "source": [
    "#First let's extract the important info out the string columns that contain of lists of dictionaries\n",
    "\n",
    "patternname = r\"(?:.name.: .)(\\w{1,}\\s{0,}\\w{0,})\"\n",
    "patternlang = r\"(?:.iso_639_1.: .)(\\w{1,}\\s{0,}\\w{0,})\"\n",
    "\n",
    "def dict2list(x):\n",
    "    if type(x) is str:\n",
    "        templist = x.strip('[]').split(',')\n",
    "        namelist = []\n",
    "        lang = False\n",
    "        for element in templist:\n",
    "            if re.search(patternlang, element):\n",
    "                namelist.append(re.search(patternlang, element).group(0)[14:])\n",
    "                lang = True\n",
    "            elif re.search(patternname, element) and not lang:\n",
    "                namelist.append(re.search(patternname, element).group(0)[9:])\n",
    "        if len(namelist) > 0:\n",
    "            return {k: 1 for k in namelist}\n",
    "        else:\n",
    "            return x\n",
    "    else:\n",
    "        return x\n",
    "\n",
    "df_movies = df_movies.applymap(dict2list)"
   ]
  },
  {
   "cell_type": "code",
   "execution_count": null,
   "metadata": {
    "_uuid": "8d139f8378c7a8bcdfe6a423020269e220775599",
    "collapsed": true,
    "scrolled": true
   },
   "outputs": [],
   "source": [
    "#Second, lets use the newly created dictionaries to create dummy columns for the categorical columns\n",
    "\n",
    "def dicttodummy(df,columns):\n",
    "    columnnames = {}\n",
    "    for col in columns:\n",
    "        columnnames[col] = list(df[col].apply(pd.Series).drop([0], axis=1))\n",
    "        df = pd.concat([df.drop([col], axis=1), df[col].apply(pd.Series).fillna(0).drop([0], axis=1)], axis=1)\n",
    "    return df,columnnames\n",
    "\n",
    "dummyfeatures = ['genres']\n",
    "df_movies,columndictionary = dicttodummy(df_movies,dummyfeatures)"
   ]
  },
  {
   "cell_type": "code",
   "execution_count": null,
   "metadata": {
    "_uuid": "545c43b2036376698354b0409403cc9889234262"
   },
   "outputs": [],
   "source": [
    "#Now we can merge both the dataframes into one\n",
    "\n",
    "df_metadata['movie_title'] = df_metadata['movie_title'].map(lambda x: x.strip())\n",
    "data = pd.merge(df_movies, df_metadata, left_on='original_title'\n",
    "                , right_on='movie_title', how='left').drop(['movie_title'], axis=1)\n",
    "\n",
    "print(data.head())"
   ]
  },
  {
   "cell_type": "markdown",
   "metadata": {
    "_uuid": "cbb8125790a3040ac6e3914a4abd905ad9dddef1"
   },
   "source": [
    "### 2- What makes gross revenue increase? How are these variables related to each other?\n",
    "\n",
    "We need to evaluate genre, content rating (R, PG13, etc.), budget, movie FB likes, IMDB likes, etc. We should also evaluate how the important of those features changed with time.\n",
    "\n",
    "#### - First of all, we should understand how is the revenue variable. An histogram should be useful."
   ]
  },
  {
   "cell_type": "code",
   "execution_count": null,
   "metadata": {
    "_uuid": "7e1821f29ffa4218ee79710f54e2ca4bc0f1c72d"
   },
   "outputs": [],
   "source": [
    "def plotHistogram(df,col,tit='',xlabel='',ylabel='',log=False):\n",
    "    bins = np.linspace(df[col].min(),df[col].max(),25)\n",
    "    plt.xlim([df[col].min(),df[col].max()])\n",
    "    plt.hist(df[col], bins=bins, alpha=0.5,log=log)\n",
    "    plt.title(tit)\n",
    "    plt.xlabel(xlabel)\n",
    "    plt.ylabel(ylabel)\n",
    "    plt.show()\n",
    "\n",
    "plotHistogram(data,'revenue',ylabel='# of films',xlabel='Revenue',tit='Revenue logarithmic histogram',log=True)"
   ]
  },
  {
   "cell_type": "markdown",
   "metadata": {
    "_uuid": "5fcb7234807c6f4952e3db19ce67b9a37e8b7e7d"
   },
   "source": [
    "The log plot tells us that the distribution is close to an exponential"
   ]
  },
  {
   "cell_type": "markdown",
   "metadata": {
    "_uuid": "3fd03168d6b22fdf694a24121ad9b2a68bc4b557"
   },
   "source": [
    "#### - Let's see how revenue correlates with some other film figures"
   ]
  },
  {
   "cell_type": "code",
   "execution_count": null,
   "metadata": {
    "_uuid": "f8f17d10f960cd11b86fd0584b808ba7c7f32b60",
    "scrolled": false
   },
   "outputs": [],
   "source": [
    "#Array with the column names for what we want to compare the revenue to\n",
    "revenue_comparisons = ['budget', 'runtime', 'vote_average', 'popularity','facenumber_in_poster','movie_facebook_likes']\n",
    "\n",
    "#Iterate through each of the columns made above and plots them separately\n",
    "for comparison in revenue_comparisons:\n",
    "    sns.jointplot(x='revenue', y=comparison, data=data, color='navy', size=10, space=0, kind='reg')"
   ]
  },
  {
   "cell_type": "markdown",
   "metadata": {
    "_uuid": "b226399b4b9783bce30ed3a55ffca82862afc9f8"
   },
   "source": [
    "We can see how the strongest relationship to revenue is budget (0.73) and the weakest, obviously, the number of faces in the promotional poster, with a p that would not allow to reject the null hypothesis if we set a confidence over 99%. The correlation of popularity and FB movie likes is also evident, but surprisingly there's also a positive correlation between runtime and revenue (0.25), so this would lead us to advise, if anything, against a short film."
   ]
  },
  {
   "cell_type": "markdown",
   "metadata": {
    "_uuid": "5cd4b6c2c6903cfcf3bce8c36f3119b8dbf9ac63"
   },
   "source": [
    "#### - Let's see now the correlation between all these variables among themselves."
   ]
  },
  {
   "cell_type": "code",
   "execution_count": null,
   "metadata": {
    "_uuid": "5f70d63462e6d32faab3fef23d6c716f01d8e264"
   },
   "outputs": [],
   "source": [
    "fig, ax = plt.subplots(figsize=(14,12));\n",
    "new = data[['revenue','budget', 'runtime', 'vote_average', 'popularity','facenumber_in_poster','movie_facebook_likes']].copy()\n",
    "new = new.corr()\n",
    "sns.heatmap(new, ax=ax);\n",
    "ax.set_title('Correlation matrix heatmap');"
   ]
  },
  {
   "cell_type": "markdown",
   "metadata": {
    "_uuid": "b7b8300b74505cfda312ce4a0ed334a5e45bfecd"
   },
   "source": [
    "#### - Is the type of film content rating important for its profitability?\n",
    "\n",
    "To know that, ee need to create a new column, revenue_budget_ratio."
   ]
  },
  {
   "cell_type": "code",
   "execution_count": null,
   "metadata": {
    "_uuid": "c7a1a11bf7778944ac1f76036974a3d3de60e506"
   },
   "outputs": [],
   "source": [
    "##We'll filter by a budget of $100k to avoid independent films\n",
    "minbudget = 100000\n",
    "data['revenue_budget_ratio'] = data['revenue'][data['budget']>minbudget]/data['budget'][data['budget']>minbudget]\n",
    "\n",
    "#We will filter to show only ratings with more than 100 films in the DB\n",
    "ratinglist = df_metadata.content_rating.value_counts()[df_metadata.content_rating.value_counts() >= 100]\n",
    "\n",
    "fig, ax = plt.subplots(figsize=(14,12));\n",
    "ax = sns.violinplot(x='content_rating', y=\"revenue_budget_ratio\"\n",
    "                    ,data=data[data.content_rating.isin(ratinglist.index.values[:])][data.revenue_budget_ratio<20]\n",
    "                    , palette=\"muted\", split=True)\n",
    "ax.set_ylim = (100)\n",
    "\n",
    "print(data[['revenue_budget_ratio','content_rating']][data.content_rating.isin(ratinglist.index.values[:])]\n",
    "      .groupby('content_rating').mean())"
   ]
  },
  {
   "cell_type": "markdown",
   "metadata": {
    "_uuid": "ce30d16e12c7fafc1e98c67ab5bc831f0670a12a"
   },
   "source": [
    "We can see how the content rating is in fact affecting the ratio distribution shape, being the G rated films the ones with a higher profitability ratio and the PG-13 those who have a lower one."
   ]
  },
  {
   "cell_type": "markdown",
   "metadata": {
    "_uuid": "4444ba06c497dfadb6b7a906b1e661684c14f360"
   },
   "source": [
    "#### - Is budget a factor in profitability of films? "
   ]
  },
  {
   "cell_type": "code",
   "execution_count": null,
   "metadata": {
    "_uuid": "61daccaf10c18845d3137458e19c264a13e869af"
   },
   "outputs": [],
   "source": [
    "sns.jointplot(x='budget', y='revenue_budget_ratio', data=data, kind='reg', color='navy'\n",
    "              , size=10, space=0,marginal_kws={'hist_kws': {'log': True}})"
   ]
  },
  {
   "cell_type": "markdown",
   "metadata": {
    "_uuid": "2ef1dacc82dfd1bf3ae945553490ff1090828058"
   },
   "source": [
    "We can see how, although budget strongly correlates with revenue, it does negatively affect the films potential for profitabilty."
   ]
  },
  {
   "cell_type": "markdown",
   "metadata": {
    "_uuid": "924872193e7dbff01133f5bb2a881b29af8de7ab"
   },
   "source": [
    "#### - How does revenue and profitability behaves for the main film genres?\n",
    "\n",
    "We will filter for the 7 main genres by film count."
   ]
  },
  {
   "cell_type": "code",
   "execution_count": null,
   "metadata": {
    "_uuid": "4ccdde6ee91913a9b90388f0c539cfa6fb0843a8"
   },
   "outputs": [],
   "source": [
    "main_genres = df_movies[columndictionary.get('genres')].sum().sort_values(ascending=False).head(7).index.values[:]\n",
    "\n",
    "fig, ax = plt.subplots(figsize=(14,12));\n",
    "new = data[['revenue',main_genres[0],main_genres[1],main_genres[2]\n",
    "            ,main_genres[3],main_genres[4],main_genres[5],main_genres[6]]].copy()\n",
    "new = new.corr()\n",
    "sns.heatmap(new, ax=ax);\n",
    "ax.set_title('Correlation between fim genre and film revenues');"
   ]
  },
  {
   "cell_type": "markdown",
   "metadata": {
    "_uuid": "bc5ea5a64028a70beb2b4d5f0f30fd8fe89b6ca8"
   },
   "source": [
    "It seems that Thrillers and Action films correlates with a higher revenue. \n",
    "\n",
    "#### - But what about film profitability? Does it favor any specific genre?"
   ]
  },
  {
   "cell_type": "code",
   "execution_count": null,
   "metadata": {
    "_uuid": "b7c543fbd4ed66c2649d46524a8751df327cb254"
   },
   "outputs": [],
   "source": [
    "fig, ax = plt.subplots(figsize=(14,12));\n",
    "new = data[['revenue_budget_ratio',main_genres[0],main_genres[1],main_genres[2]\n",
    "            ,main_genres[3],main_genres[4],main_genres[5],main_genres[6]]].copy()\n",
    "new = new.corr()\n",
    "sns.heatmap(new, ax=ax);\n",
    "ax.set_title('Correlation between fim genre and film profitability');"
   ]
  },
  {
   "cell_type": "markdown",
   "metadata": {
    "_uuid": "dfa76d1e4ead896de98d6d5fd909502ed26ddf93"
   },
   "source": [
    "It seems that there is no genre in particular that correlates with a higher or lower profitability."
   ]
  },
  {
   "cell_type": "markdown",
   "metadata": {
    "_uuid": "e05433509e1114bc987adb01acd932a225d089b4"
   },
   "source": [
    "### 3- What actors and directors have the highest revenue to budget ratio?\n",
    "\n",
    "Which directors and actors have the highest average IMBD rating? Which is more loved in facebook? Which ones get the most profitable films? Do any of these have any correlation?"
   ]
  },
  {
   "cell_type": "code",
   "execution_count": null,
   "metadata": {
    "_uuid": "e9d4eb13089af5e9b53a1daeda0e842c7dcc6d92",
    "collapsed": true
   },
   "outputs": [],
   "source": [
    "def showbarplot(df,col,tit='',col2=None,nelements=5,tail=False,ylim=None):\n",
    "    plt.rcParams[\"figure.figsize\"] = [nelements*2,6]\n",
    "    fig, ax = plt.subplots()\n",
    "    width = 0.7\n",
    "    ind = np.arange(nelements)\n",
    "    \n",
    "    if tail:\n",
    "        bars = df[col].sort_values(ascending=False).tail(nelements)\n",
    "        plt.xticks((ind), df[col].sort_values(ascending=False).tail(nelements).index.tolist(), rotation=45)\n",
    "    else:\n",
    "        bars = df[col].sort_values(ascending=False).head(nelements)\n",
    "        plt.xticks((ind), df[col].sort_values(ascending=False).head(nelements).index.tolist(), rotation=45)\n",
    "    \n",
    "    rects = ax.bar(range(len(bars)), bars, width = width, color='navy')\n",
    "    ax.set_title(tit)\n",
    "    \n",
    "    if col2:\n",
    "        if tail:\n",
    "            labels = df[[col,col2]].sort_values(by=col,ascending=False).tail(nelements)[col2]\n",
    "        else:\n",
    "            labels = df[[col,col2]].sort_values(by=col,ascending=False).head(nelements)[col2]\n",
    "        \n",
    "        plt.legend(['n='+str(col2)], loc=1)\n",
    "        for i,rect in enumerate(rects):\n",
    "            height = rect.get_height()\n",
    "            ax.text(rect.get_x() + rect.get_width()/2., height*1.05,'n='+str(int(labels[i]))\n",
    "                    , ha='center', va='bottom')\n",
    "    \n",
    "    if ylim:\n",
    "        ax.set_ylim(ylim[0], ylim[1])\n",
    "        \n",
    "    plt.show()"
   ]
  },
  {
   "cell_type": "code",
   "execution_count": null,
   "metadata": {
    "_uuid": "f3d83b2f62f850f292cd5d49400102df6aab038a",
    "collapsed": true
   },
   "outputs": [],
   "source": [
    "df_directors = data.groupby('director_name').apply(lambda x: \\\n",
    "                                                   pd.Series({'Director_likes':x.director_facebook_likes.mean(),\n",
    "                                                            'Movie_likes_mean':x.movie_facebook_likes.mean(),\n",
    "                                                            'revenue_budget_ratio':x.revenue_budget_ratio.mean(),\n",
    "                                                            'budget_mean':x.budget.mean(),\n",
    "                                                            'revenue_mean':x.revenue.mean(),\n",
    "                                                            'runtime':x.runtime.mean(),\n",
    "                                                            'vote_average':x.vote_average.mean(),\n",
    "                                                            'films':x.director_name.count()}))"
   ]
  },
  {
   "cell_type": "markdown",
   "metadata": {
    "_uuid": "e826525a9200bf8a0e9e8a178b9cf9b0c305a3be"
   },
   "source": [
    "#### - Let's see the directors with a highest average revenue figures"
   ]
  },
  {
   "cell_type": "code",
   "execution_count": null,
   "metadata": {
    "_uuid": "b5b170827cfd47f4d58e5f8ff4c21a913fc515bb"
   },
   "outputs": [],
   "source": [
    "#As we will be considering mean revenues, we'll filter by directors with at least 3 films in the DB\n",
    "\n",
    "showbarplot(df_directors[df_directors.films>2],'revenue_mean'\\\n",
    "            ,tit='Directors by average revenue figures',nelements=7)\n",
    "\n",
    "print(\"Directors by average revenue figures:\\n\")\n",
    "print(df_directors[['revenue_mean','films','budget_mean','vote_average']][df_directors.films>2]\\\n",
    "      .sort_values(by=\"revenue_mean\",ascending=False).head())"
   ]
  },
  {
   "cell_type": "markdown",
   "metadata": {
    "_uuid": "69301ae5b49169da84cab77d5642de08a2fb3a3c"
   },
   "source": [
    "But that didn't show the profitability of the directors...\n",
    "\n",
    "#### - Let's see now the directors with at least 3 films with the highest profitable ratios"
   ]
  },
  {
   "cell_type": "code",
   "execution_count": null,
   "metadata": {
    "_uuid": "5cb663f7f06060417de21a4d42a081eb596e2aee"
   },
   "outputs": [],
   "source": [
    "showbarplot(df_directors[df_directors.films>2],'revenue_budget_ratio',col2='films'\\\n",
    "            ,tit='Directors by average profitability, with at least 3 films',nelements=7)\n",
    "\n",
    "print(\"\\n\\nDirectors by average profitability, with at least 3 films:\\n\")\n",
    "print(df_directors[['films','revenue_budget_ratio','budget_mean','vote_average']]\\\n",
    "      [df_directors.films>2].sort_values(by=\"revenue_budget_ratio\",ascending=False).head())"
   ]
  },
  {
   "cell_type": "markdown",
   "metadata": {
    "_uuid": "1ed0e63f6843a659e38b0e26381fda0757fa6f70"
   },
   "source": [
    "We can see how George Romero, John Carpenter  and GeorgeMiller have the biggest revenue to budget ratio, having all of them more than 5 films in their IMDB database profiles.\n",
    "\n",
    "#### - Let's see now other stats about directors, like FB fans"
   ]
  },
  {
   "cell_type": "code",
   "execution_count": null,
   "metadata": {
    "_uuid": "498a872bd6e90fa2efb21b87d724b00211466f06"
   },
   "outputs": [],
   "source": [
    "showbarplot(df_directors[df_directors.revenue_budget_ratio>0],'Director_likes'\\\n",
    "            ,tit='Most liked directors',nelements=7)\n",
    "\n",
    "#We'll filter directors with less than 3 films in the df for the movie means average\n",
    "\n",
    "showbarplot(df_directors[df_directors.films>2],'Movie_likes_mean',col2='films'\\\n",
    "            ,tit='Directors with at least 3 movies whose movies are most liked',nelements=7)"
   ]
  },
  {
   "cell_type": "markdown",
   "metadata": {
    "_uuid": "125101112df44a8685a4f0af4dff8fb6d796a572"
   },
   "source": [
    "It seems Christopher Nolan has a touch with the audience!\n",
    "\n",
    "#### - But does having more FB likes relates to a higher profitability for directors?"
   ]
  },
  {
   "cell_type": "code",
   "execution_count": null,
   "metadata": {
    "_uuid": "0710a607956ddf0bbc90cafb1d6615500b344a28"
   },
   "outputs": [],
   "source": [
    "sns.jointplot(x='revenue_budget_ratio', y='director_facebook_likes', data=data, color='navy', kind='reg'\n",
    "              , size=10, space=0,marginal_kws={'hist_kws': {'log': True}})"
   ]
  },
  {
   "cell_type": "markdown",
   "metadata": {
    "_uuid": "859aa142a08e1a4486af58ffc7497e99da5889fb"
   },
   "source": [
    "The number of FB likes of the director and film profitability (revenue/budget ratio) doesn't seem to be important. \n",
    "\n",
    "#### - What if we chose to compare against the revenue of their films?"
   ]
  },
  {
   "cell_type": "code",
   "execution_count": null,
   "metadata": {
    "_uuid": "884abe34a35c7fe672f82eb4d1d9a63dc557a447"
   },
   "outputs": [],
   "source": [
    "sns.jointplot(x='revenue', y='director_facebook_likes', data=data, color='navy', kind='reg'\n",
    "              , size=10, space=0,marginal_kws={'hist_kws': {'log': True}})"
   ]
  },
  {
   "cell_type": "markdown",
   "metadata": {
    "_uuid": "bc42ecbdef9584a571e66501d3fb0e3c891cb991"
   },
   "source": [
    "We can see how the directors of films with great revenues tend to have more FB likes, although that doesn't seem to imply that the profitability of their films are higher."
   ]
  },
  {
   "cell_type": "markdown",
   "metadata": {
    "_uuid": "600af265f00afd9bb43aa5c1196fd052383f87ac"
   },
   "source": [
    "#### - Can we relate the FB likes of the cast to the profitability of the film? What about its revenue?"
   ]
  },
  {
   "cell_type": "code",
   "execution_count": null,
   "metadata": {
    "_uuid": "123a76c33392698ba05a2168bff8dfe18e2a6638"
   },
   "outputs": [],
   "source": [
    "sns.jointplot(x='cast_total_facebook_likes', y='revenue_budget_ratio', data=data\n",
    "              , kind='reg', color='navy', size=10, space=0,marginal_kws={'hist_kws': {'log': True}})\n",
    "\n",
    "sns.jointplot(x='cast_total_facebook_likes', y='revenue', data=data\n",
    "              , kind='reg', color='navy', size=10, space=0,marginal_kws={'hist_kws': {'log': True}})"
   ]
  },
  {
   "cell_type": "markdown",
   "metadata": {
    "_uuid": "c874e1394b16a883415a24b0956fe8290b6b109c"
   },
   "source": [
    "As it happened with the directors, the FB likes of the main cast doesn't positively correlate with the profitability of the film, but it clearly does with its revenue. In this case, the profitability of the film is negatively correlated with the number of FB likes of the cast, with a p of 0.046, so its negative correlation would be accepted with a confidence of 95%, and the positive correlation of FB likes and total film revenue is also clearer in this case, with a r of 0.24.\n",
    "\n",
    "Let's create a specific dataframe for the 3 main actors in each film, to evaluate them separately."
   ]
  },
  {
   "cell_type": "code",
   "execution_count": null,
   "metadata": {
    "_uuid": "dbcfc66d21357cc308ea1f194648c1fa4ee379a2",
    "collapsed": true
   },
   "outputs": [],
   "source": [
    "actor1 = data[['actor_1_name','actor_1_facebook_likes','revenue','revenue_budget_ratio','vote_average']]\\\n",
    "    .rename(index=str, columns={\"actor_1_name\": \"actor\", \"actor_1_facebook_likes\": \"actor_FB_likes\"})\n",
    "actor2 = data[['actor_2_name','actor_2_facebook_likes','revenue','revenue_budget_ratio','vote_average']]\\\n",
    "    .rename(index=str, columns={\"actor_2_name\": \"actor\", \"actor_2_facebook_likes\": \"actor_FB_likes\"})\n",
    "actor3 = data[['actor_3_name','actor_3_facebook_likes','revenue','revenue_budget_ratio','vote_average']]\\\n",
    "    .rename(index=str, columns={\"actor_3_name\": \"actor\", \"actor_3_facebook_likes\": \"actor_FB_likes\"})\n",
    "\n",
    "actors = pd.concat([actor1, actor2, actor3]).reset_index(drop=True)\n",
    "\n",
    "df_actors = actors.groupby('actor').apply(lambda x: pd.Series({'Actor_likes':x.actor_FB_likes.mean(),\n",
    "                                                               'revenue_budget_ratio':x.revenue_budget_ratio.mean(),\n",
    "                                                               'revenue_mean':x.revenue.mean(),\n",
    "                                                               'vote_average':x.vote_average.mean(),\n",
    "                                                               'films':x.actor.count()}))"
   ]
  },
  {
   "cell_type": "markdown",
   "metadata": {
    "_uuid": "9c5770d11c524a5bd8af76b3385e3dce60f64cbf"
   },
   "source": [
    "#### - Which are the actors with higher revenue figures and which are the most profitable for their movies?"
   ]
  },
  {
   "cell_type": "code",
   "execution_count": null,
   "metadata": {
    "_uuid": "84ec4bc663be2ce4c3533d9098a62cf3861084e2"
   },
   "outputs": [],
   "source": [
    "showbarplot(df_actors[df_actors.films>2],'revenue_mean',tit='Actors by average revenue figures',nelements=7)\n",
    "\n",
    "print(\"Actors by average revenue figures:\\n\")\n",
    "print(df_actors[['revenue_mean','films','vote_average']][df_actors.films>2]\\\n",
    "      .sort_values(by=\"revenue_mean\",ascending=False).head())\n",
    "\n",
    "\n",
    "showbarplot(df_actors[df_actors.films>2],'revenue_budget_ratio'\n",
    "            ,tit='Actors by average profitability of their films',nelements=7)\n",
    "\n",
    "print(\"Actors by average profitability of their films:\\n\")\n",
    "print(df_actors[['revenue_budget_ratio','films','vote_average']][df_actors.films>2]\\\n",
    "      .sort_values(by=\"revenue_budget_ratio\",ascending=False).head())"
   ]
  },
  {
   "cell_type": "markdown",
   "metadata": {
    "_uuid": "c3be2ddf5e6233766995faae95f12aacf7fa95fe"
   },
   "source": [
    "### 4- What movies where the biggest flops? Are there factors that are associated with flops?\n",
    "\n",
    "What are the number of films that have grossed less than their budgets by year? Is that changing through time?"
   ]
  },
  {
   "cell_type": "markdown",
   "metadata": {
    "_uuid": "ae2e35966f4b5c4c0a590bb74d71f63c7674fcc8"
   },
   "source": [
    "#### - It would be interesting to visit first the evolution of films profitability throughout the years"
   ]
  },
  {
   "cell_type": "code",
   "execution_count": null,
   "metadata": {
    "_uuid": "a9a30dd7569b4ad555318773d2dcc3af16b8ff4c",
    "collapsed": true
   },
   "outputs": [],
   "source": [
    "data['release_date'] = pd.to_datetime(data['release_date'])\n",
    "\n",
    "df_years = data.groupby(data.release_date.dt.year).apply\\\n",
    "(lambda x: pd.Series({'revenue_ratio_median':x.revenue_budget_ratio.median(),\n",
    "                    'ratio_top25':x.revenue_budget_ratio.quantile(.75),\n",
    "                    'ratio_bottom25':x.revenue_budget_ratio.quantile(.25),\n",
    "                    'flops_ratio':(x[x.revenue_budget_ratio<1].release_date.count())/x.release_date.count(),\n",
    "                    'vote_average':x.vote_average.mean(),\n",
    "                    'films':x.release_date.count()}))"
   ]
  },
  {
   "cell_type": "code",
   "execution_count": null,
   "metadata": {
    "_uuid": "b749ebde16fe90bc8d6564fe89ea0d059a092844",
    "scrolled": false
   },
   "outputs": [],
   "source": [
    "# We'll filter for those years with at least 30 films on the database\n",
    "\n",
    "fig, axes = plt.subplots(nrows=1, ncols=2, figsize=(16, 7))\n",
    "\n",
    "x=df_years.index[df_years.films>29]\n",
    "\n",
    "axes[0].plot(x, 'revenue_ratio_median', data=df_years[df_years.films>29], marker='o'\n",
    "             , markerfacecolor='blue', markersize=12, color='skyblue', linewidth=4,label=\"Median revenue/budget\")\n",
    "axes[1].plot(x, 'flops_ratio', data=df_years[df_years.films>29], marker='', color='olive'\n",
    "             , linewidth=2)\n",
    "axes[0].plot(x, 'ratio_top25', data=df_years[df_years.films>29], marker='', color='royalblue'\n",
    "             , linewidth=2, linestyle='dashed', label=\"Top 25% profit.\")\n",
    "axes[0].plot(x, 'ratio_bottom25', data=df_years[df_years.films>29], marker='', color='indianred'\n",
    "             , linewidth=2, linestyle='dashed', label=\"Bottom 25% profit.\")\n",
    "axes[0].legend()\n",
    "axes[0].set_title('Profitability evolution over the years')\n",
    "axes[1].set_title('Evolution of the ratio of films that lost money')\n",
    "\n",
    "fit = np.polyfit(x, df_years.flops_ratio[df_years.films>29], 1)\n",
    "axes[1].plot(x, fit[0] * x + fit[1], color='red')\n",
    "\n",
    "fit = np.polyfit(x, df_years.revenue_ratio_median[df_years.films>29], 1)\n",
    "axes[0].plot(x, fit[0] * x + fit[1], color='red')\n"
   ]
  },
  {
   "cell_type": "markdown",
   "metadata": {
    "_uuid": "aced0f7df7f170180c932ae1578d2edf4dc99d68"
   },
   "source": [
    "We can see that the profitability of films has not been getting better through the years. We could even argue that the trend has a downward slope, and that the ratio of films that don't even make it to breaking even is, if anything, increasing."
   ]
  },
  {
   "cell_type": "markdown",
   "metadata": {
    "_uuid": "a7ee53c9af10222a96afcb38ce0d8ba5892c4424"
   },
   "source": [
    "As it happened with the directors, the FB likes of the main cast doesn't improve the profitability of the film. If anything, it seems to be a negative correlation, probably because films with lower budgets and less known actors have a much greater potential for big profitability than big blockbusters."
   ]
  },
  {
   "cell_type": "markdown",
   "metadata": {
    "_uuid": "884408ed7bc9ddee4d4ec05fac2a79d773058fd3"
   },
   "source": [
    "#### We're going to review now what films in our database are the biggest flops. To do so, we will:\n",
    "\n",
    "- Filter first by films with budget lower than revenue\n",
    "- Filter by those films with a IMDB score under 5 and at least 100 votes\n",
    "- Finnaly, sort those films by the amount of money they lost"
   ]
  },
  {
   "cell_type": "code",
   "execution_count": null,
   "metadata": {
    "_uuid": "b063c59440bdba8fc690e6280b7acff9f045ea11",
    "scrolled": false
   },
   "outputs": [],
   "source": [
    "df_flops = data[data.revenue_budget_ratio<0.5][data.revenue_budget_ratio>0]\n",
    "df_flops = df_flops[df_flops.vote_average<5][df_flops.vote_count>100]\n",
    "df_flops['money_lost'] = (1-df_flops['revenue_budget_ratio'])*df_flops['budget']\n",
    "df_flops.sort_values(by='money_lost',ascending=False,inplace = True)\n",
    "\n",
    "#print(df_flops[['original_title','money_lost','vote_average']])\n",
    "\n",
    "fig, ax = plt.subplots(figsize=(14,12));\n",
    "plt.style.use('ggplot')\n",
    "explode=[0.1,0.1,0.1,0.1,0,0,0,0,0,0,0,0,0,0,0,0,0,0,0,0,0,0]\n",
    "df_flops['money_lost'].plot(kind='pie',explode=explode, labels=df_flops.original_title, fontsize=10,shadow=True)\n",
    "plt.show()\n",
    "\n",
    "df_flops.set_index('original_title',inplace=True)\n",
    "\n",
    "print(df_flops[['money_lost','vote_average','revenue_budget_ratio']])"
   ]
  },
  {
   "cell_type": "markdown",
   "metadata": {
    "_uuid": "2019d722ea10c05eb4b77299f0ed1059195fb632"
   },
   "source": [
    "### 5- What countries make the most profitable and valued films?\n",
    "\n",
    "As a last question, to gather the different aspects of profitable movies, we can inspect the relationship of movie characteristics between different countries"
   ]
  },
  {
   "cell_type": "code",
   "execution_count": null,
   "metadata": {
    "_uuid": "398c30cd6a4ec0745dd0d77f1f0c27a6dc74e0e0",
    "collapsed": true
   },
   "outputs": [],
   "source": [
    "df_countries = data.groupby('country').apply(lambda x: pd.Series\\\n",
    "                                             ({'Movie_likes_mean':x.movie_facebook_likes.mean(),\n",
    "                                                'revenue_budget_ratio':x.revenue_budget_ratio.mean(),\n",
    "                                                'budget_mean':x.budget.mean(),\n",
    "                                                'revenue_mean':x.revenue.mean(),\n",
    "                                                'runtime':x.runtime.mean(),\n",
    "                                                'vote_average':x.vote_average.mean(),\n",
    "                                                'films':x.country.count()}))"
   ]
  },
  {
   "cell_type": "markdown",
   "metadata": {
    "_uuid": "e87020651bf6535da914834ec7b307126b688637"
   },
   "source": [
    "#### - Which are the countries with a higher revenue average?"
   ]
  },
  {
   "cell_type": "code",
   "execution_count": null,
   "metadata": {
    "_uuid": "a74a90673fd3854d1ea1d837d6e618142bdac4f9"
   },
   "outputs": [],
   "source": [
    "#We'll filter those countries with less than 3 films in the df\n",
    "\n",
    "showbarplot(df_countries[df_countries.films>2],'revenue_mean',col2='films'\\\n",
    "            ,tit='Countries by average film revenue',nelements=10)"
   ]
  },
  {
   "cell_type": "markdown",
   "metadata": {
    "_uuid": "20cfdd72ec8e39e7f21e79202fb0add44b6951e1"
   },
   "source": [
    "#### - Which country makes the most profitable movies?"
   ]
  },
  {
   "cell_type": "code",
   "execution_count": null,
   "metadata": {
    "_uuid": "839e5adfd541e600729c2f570e57c368ff40be1a",
    "scrolled": false
   },
   "outputs": [],
   "source": [
    "showbarplot(df_countries,'revenue_budget_ratio',col2='films',tit='Countries by average profitability',nelements=10)"
   ]
  },
  {
   "cell_type": "markdown",
   "metadata": {
    "_uuid": "7c798538a968f8066a73e53698946835d8dbd287"
   },
   "source": [
    "It's important to note that these two previous lists are probably biased, as films from most countries don't enter IMDB unless they had enough budget or social impact, so the average revenue and revenue to budget ratios will be higher for films from those countries."
   ]
  },
  {
   "cell_type": "markdown",
   "metadata": {
    "_uuid": "390cc17b5eda4305d678799bc8ae5b62e57ec311"
   },
   "source": [
    "#### - Which country makes the most acclaimed films?"
   ]
  },
  {
   "cell_type": "code",
   "execution_count": null,
   "metadata": {
    "_uuid": "dcad4fa93c6e53be21aca128ac15d37d74b49c65"
   },
   "outputs": [],
   "source": [
    "#Filtering again by countries with more than 2 films\n",
    "\n",
    "showbarplot(df_countries[df_countries.films>2],'vote_average',tit='Countries with top film reviews'\n",
    "            ,nelements=7, ylim=[4.5,7.5])\n",
    "\n",
    "print(\"\\n\",df_countries[['vote_average','films','budget_mean','revenue_budget_ratio']][df_countries.films>2]\\\n",
    "      .sort_values(by=\"vote_average\",ascending=False).head())"
   ]
  },
  {
   "cell_type": "markdown",
   "metadata": {
    "_uuid": "f6af345fa2265526d389988a9f1e811216d5e782"
   },
   "source": [
    "#### - And which countries make the least acclaimed?"
   ]
  },
  {
   "cell_type": "code",
   "execution_count": null,
   "metadata": {
    "_uuid": "89e4d3e4104dc3835e4453e4f490ec8ecdfd0ba2"
   },
   "outputs": [],
   "source": [
    "#Whith the 3 films or more filter\n",
    "\n",
    "showbarplot(df_countries[df_countries.films>2],'vote_average',tit='Countries with bottom film reviews'\n",
    "            , ylim=[4.5,7.5], nelements=7,tail=True)\n",
    "\n",
    "print(\"\\n\",df_countries[['vote_average','films','budget_mean','revenue_budget_ratio']][df_countries.films>2]\\\n",
    "      .sort_values(by=\"vote_average\",ascending=False).tail())"
   ]
  },
  {
   "cell_type": "markdown",
   "metadata": {
    "_uuid": "842b4f9bce25d5f630fb88dbb3625553e84b90e2"
   },
   "source": [
    "#### - Which country makes the longest and shortest flims on average?"
   ]
  },
  {
   "cell_type": "code",
   "execution_count": null,
   "metadata": {
    "_uuid": "eb47268430b57d7b25adea152547aeda2b6d0e68"
   },
   "outputs": [],
   "source": [
    "showbarplot(df_countries[df_countries.films>2],'runtime'\n",
    "            ,tit='Countries with at least 3 films by film duration (Top 5)',nelements=5, ylim=[80,140])\n",
    "showbarplot(df_countries[df_countries.films>2],'runtime'\n",
    "            ,tit='Countries with at least 3 films by film duration (Bottom 5)',nelements=5,tail=True, ylim=[80,140])"
   ]
  },
  {
   "cell_type": "markdown",
   "metadata": {
    "_uuid": "6d8dc7ea7455ad9e0c7b60b7bb4e31f42c90b61e"
   },
   "source": [
    "It's courious to see how Ireland, with the highest revenue to budget ratio, makes the shortest films of all countries."
   ]
  }
 ],
 "metadata": {
  "kernelspec": {
   "display_name": "Python 3",
   "language": "python",
   "name": "python3"
  },
  "language_info": {
   "codemirror_mode": {
    "name": "ipython",
    "version": 3
   },
   "file_extension": ".py",
   "mimetype": "text/x-python",
   "name": "python",
   "nbconvert_exporter": "python",
   "pygments_lexer": "ipython3",
   "version": "3.6.5"
  }
 },
 "nbformat": 4,
 "nbformat_minor": 1
}
