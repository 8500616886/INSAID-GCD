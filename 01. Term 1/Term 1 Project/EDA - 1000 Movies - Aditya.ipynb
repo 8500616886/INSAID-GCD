{
 "cells": [
  {
   "cell_type": "markdown",
   "metadata": {},
   "source": [
    "# EDA on 1000 Movies Data - Project - Term 1 - GCD - Aditya"
   ]
  },
  {
   "cell_type": "markdown",
   "metadata": {},
   "source": [
    "### Table of Contents\n",
    "- 1. [Problem Statement](#section1)</br>\n",
    "    - 1.1 [Introduction](#section101)<br/>\n",
    "    - 1.2 [Data source and data set](#section102)<br/>\n",
    "- 2. [Load the packages and data](#section2)</br>\n",
    "- 3. [Data profiling](#section3)</br>\n",
    "    - 3.1 [dtypes](#section301)<br/>\n",
    "    - 3.2 [head](#section302)<br/>\n",
    "    - 3.3 [describe](#section303)<br/>\n",
    "    - 3.4 [sample](#section304)<br/>\n",
    "    - 3.5 [Pandas profiling](#section305)<br/>\n",
    "    - 3.6 [Initial observations](#section306)<br/>\n",
    "    - 3.7 [Final observations](#section307)<br/>\n",
    "- 4. [Data normalization](#section4)</br>\n",
    "    - 4.1 [Standardize column headers to lower case](#section401)<br/>\n",
    "    - 4.2 [Convert timestamp to date-time](#section402)<br/>\n",
    "    - 4.3 [Missing data and its imputation](#section403)<br/>\n",
    "    - 4.4 [Outlier Treatment](#section404)<br/>\n",
    "    - 4.5 [Handling NaN data in categorical variables](#section405)<br/>            \n",
    "    - 4.6 [Grouping](#section406)<br/>\n",
    "- 5. [Identify patterns in the data](#section5)</br>\n",
    "    - 5.1 [Treatment vs work_interfere](#section501)<br/>\n",
    "    - 5.2 [Age Category Vs seeking treatment](#section502)<br/>\n",
    "    - 5.3 [Family history Vs Seeking treatment](#section503)<br/>\n",
    "    - 5.4 [Employee count of Companies](#section505)<br/>\n",
    "    - 5.5 [Employee Count Vs treatment](#section506)<br/>\n",
    "    - 5.6 [Using Donut chart to check the relationship between Gender and Treatment](#section507)<br/>\n",
    "    - 5.7 [Seaborn swarm plot](#section508)<br/>\n",
    "- 6. [Analysis through questions](#section6)</br>\n",
    "     - 6.1 [How does the frequency of mental health illness vary by geographic location?](#section601)<br/>\n",
    "         - 6.1.1 [Which countries contribute the most?](#section602)<br/>\n",
    "         - 6.1.2 [Which state contributes the most?](#section603)<br/>\n",
    "         - 6.1.3 [What is the contribution of top 3 countries among all?](#section604)<br/>\n",
    "         - 6.1.4 [What is the count and percentage of work interfere in work of the employees for the top 3 countries?](#section605)<br/>\n",
    "         - 6.1.5 [What is the total number of employees going for treatment from the top 3 countries?](#section606)<br/>\n",
    "         - 6.1.6 [ How many people did go for treatment on the basis of gender for the top 3 countries?](#section607)<br/>\n",
    "     - 6.2 [Relationship between mental health and attitude.](#section608)<br/>\n",
    "- 7. [Conclusion](#section7)<br/>"
   ]
  },
  {
   "cell_type": "code",
   "execution_count": null,
   "metadata": {},
   "outputs": [],
   "source": []
  }
 ],
 "metadata": {
  "kernelspec": {
   "display_name": "Python 3",
   "language": "python",
   "name": "python3"
  },
  "language_info": {
   "codemirror_mode": {
    "name": "ipython",
    "version": 3
   },
   "file_extension": ".py",
   "mimetype": "text/x-python",
   "name": "python",
   "nbconvert_exporter": "python",
   "pygments_lexer": "ipython3",
   "version": "3.6.5"
  }
 },
 "nbformat": 4,
 "nbformat_minor": 2
}
