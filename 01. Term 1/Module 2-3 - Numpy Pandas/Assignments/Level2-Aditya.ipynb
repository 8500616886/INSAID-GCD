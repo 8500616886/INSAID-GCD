{
 "cells": [
  {
   "cell_type": "markdown",
   "metadata": {},
   "source": [
    "<img src = 'https://github.com/insaid2018/Term-1/blob/master/Images/INSAID_Full%20Logo.png?raw=true' width=\"240\" height=\"360\">\n",
    "# __Assignment: Numpy and Pandas__\n",
    "### Level: 2"
   ]
  },
  {
   "cell_type": "markdown",
   "metadata": {},
   "source": [
    "### 1. Form a 1D array containing elements from -2(including) to 10(excluding) in arithmetic progression with common difference 1.5 , negate all elements which are between 2 and 7, in place. Print out this new array."
   ]
  },
  {
   "cell_type": "code",
   "execution_count": 10,
   "metadata": {},
   "outputs": [
    {
     "data": {
      "text/plain": [
       "array([-2. , -0.5,  1. , -2.5, -4. , -5.5,  7. ,  8.5])"
      ]
     },
     "execution_count": 10,
     "metadata": {},
     "output_type": "execute_result"
    }
   ],
   "source": [
    "import numpy as np\n",
    "def f(x):\n",
    "    if x > 2 and x < 7:\n",
    "        return -x\n",
    "    else:\n",
    "        return x\n",
    "def generate():\n",
    "    # your code here\n",
    "    a = np.arange(-2, 10, 1.5)\n",
    "    a = np.array([f(item) for item in a])\n",
    "    return a# return modified array\n",
    "generate()"
   ]
  },
  {
   "cell_type": "markdown",
   "metadata": {},
   "source": [
    "### 2. Create random vector of size 7 and replace the maximum value by 2 and minimum by 7. Sort this array in reverse order. Return the modified vector."
   ]
  },
  {
   "cell_type": "code",
   "execution_count": 5,
   "metadata": {},
   "outputs": [
    {
     "data": {
      "text/plain": [
       "array([7.        , 2.        , 0.63395822, 0.63229653, 0.56127278,\n",
       "       0.52479763, 0.45391413])"
      ]
     },
     "execution_count": 5,
     "metadata": {},
     "output_type": "execute_result"
    }
   ],
   "source": [
    "import numpy as np\n",
    "def generate():\n",
    "    # your code\n",
    "    a = np.random.rand(7)\n",
    "    a = np.sort(a)\n",
    "    a[0] = 7\n",
    "    a[-1] = 2\n",
    "    a = np.sort(a)\n",
    "    #print (a[::-1])\n",
    "    return a[::-1]# your array\n",
    "generate()"
   ]
  },
  {
   "cell_type": "markdown",
   "metadata": {},
   "source": [
    "### 3. Convert a random 7x2 matrix representing cartesian coordinates to polar coordinates. Print out both.\n",
    "Hint: use arctan2()."
   ]
  },
  {
   "cell_type": "code",
   "execution_count": 8,
   "metadata": {},
   "outputs": [
    {
     "name": "stdout",
     "output_type": "stream",
     "text": [
      "[[0.74207264 0.67588795]\n",
      " [0.34905428 0.07127235]\n",
      " [0.64564282 0.99939011]\n",
      " [0.02737811 0.00358583]\n",
      " [0.98536481 0.18780813]\n",
      " [0.09170538 0.81977422]\n",
      " [0.174762   0.30654251]]\n",
      "[[1.00374117 0.73875605]\n",
      " [0.35625642 0.20141826]\n",
      " [1.18980471 0.99721221]\n",
      " [0.02761193 0.13023291]\n",
      " [1.00310303 0.18833863]\n",
      " [0.82488766 1.45939286]\n",
      " [0.35285984 1.05264713]]\n"
     ]
    }
   ],
   "source": [
    "import numpy as np\n",
    "import math\n",
    "def cart2pol(x, y):\n",
    "    rho = np.sqrt(x**2 + y**2)\n",
    "    phi = np.arctan2(y, x)\n",
    "    return(rho, phi)\n",
    "\n",
    "def generate():\n",
    "    # your code here\n",
    "    car_crd = np.random.rand(7,2)\n",
    "    print (car_crd)\n",
    "    pol_crd = np.array([cart2pol(pt[0], pt[1]) for pt in car_crd])\n",
    "    print (pol_crd)\n",
    "    # print out both matrices\n",
    "    return None\n",
    "generate()"
   ]
  },
  {
   "cell_type": "markdown",
   "metadata": {},
   "source": [
    "### 4. Create an numpy array sequence named num_seq when only the starting point, step size and length of sequence is given."
   ]
  },
  {
   "cell_type": "code",
   "execution_count": 12,
   "metadata": {},
   "outputs": [
    {
     "data": {
      "text/plain": [
       "array([ 5,  7,  9, 11, 13, 15, 17, 19, 21, 23, 25, 27, 29, 31, 33])"
      ]
     },
     "execution_count": 12,
     "metadata": {},
     "output_type": "execute_result"
    }
   ],
   "source": [
    "import numpy as np\n",
    "\n",
    "length = 15\n",
    "start = 5\n",
    "step = 2\n",
    "\n",
    "def generate(start, length, step):\n",
    "    # your code here\n",
    "    num_seq = np.arange(start, start + length*step, step)\n",
    "    return num_seq# array created by you, i.e. num_seq\n",
    "generate(start, length, step)"
   ]
  },
  {
   "cell_type": "markdown",
   "metadata": {},
   "source": [
    "### 5. Make a 3*3 array using a 1d array of evenly spaced numbers ranging from 0 to 9, name it arr1.<br/> \n",
    "### Then transpose it to obtain arr2.  From arr2 subtract a 1*3 array with all elements 1 to get arr4.\n",
    "HINT: Use reshape and transpose function."
   ]
  },
  {
   "cell_type": "code",
   "execution_count": 21,
   "metadata": {},
   "outputs": [
    {
     "data": {
      "text/plain": [
       "array([[-1.,  2.,  5.],\n",
       "       [ 0.,  3.,  6.],\n",
       "       [ 1.,  4.,  7.]])"
      ]
     },
     "execution_count": 21,
     "metadata": {},
     "output_type": "execute_result"
    }
   ],
   "source": [
    "import numpy as np\n",
    "def generate():\n",
    "    # your code here\n",
    "    arr1 = np.arange(0,9).reshape(3,3)\n",
    "    #print (arr1)\n",
    "    arr2 = np.transpose(arr1)\n",
    "    #print (arr2)\n",
    "    arr3 = np.ones((1,3))\n",
    "    #print (arr3)\n",
    "    arr4 = arr2 - arr3\n",
    "    #print (arr4)\n",
    "    return arr4# finally created array i.e arr4\n",
    "generate()"
   ]
  },
  {
   "cell_type": "markdown",
   "metadata": {},
   "source": [
    "### 6. Create a DatetimeIndex that contains each business day of 2016 and use it to index a Series of random numbers. Let's call this Series bus_2k16. Print it out. Hint: use pd.date_range."
   ]
  },
  {
   "cell_type": "code",
   "execution_count": 32,
   "metadata": {},
   "outputs": [
    {
     "name": "stdout",
     "output_type": "stream",
     "text": [
      "2016-01-01    0.233553\n",
      "2016-01-04    0.202570\n",
      "2016-01-05    0.082177\n",
      "2016-01-06    0.980771\n",
      "2016-01-07    0.864186\n",
      "2016-01-08    0.180953\n",
      "2016-01-11    0.327258\n",
      "2016-01-12    0.467373\n",
      "2016-01-13    0.637646\n",
      "2016-01-14    0.328170\n",
      "2016-01-15    0.265742\n",
      "2016-01-18    0.762063\n",
      "2016-01-19    0.300179\n",
      "2016-01-20    0.761097\n",
      "2016-01-21    0.095450\n",
      "2016-01-22    0.616598\n",
      "2016-01-25    0.170889\n",
      "2016-01-26    0.178694\n",
      "2016-01-27    0.838012\n",
      "2016-01-28    0.034341\n",
      "2016-01-29    0.646067\n",
      "2016-02-01    0.046173\n",
      "2016-02-02    0.499003\n",
      "2016-02-03    0.210554\n",
      "2016-02-04    0.540482\n",
      "2016-02-05    0.995178\n",
      "2016-02-08    0.024301\n",
      "2016-02-09    0.212027\n",
      "2016-02-10    0.015468\n",
      "2016-02-11    0.994354\n",
      "                ...   \n",
      "2016-11-21    0.206432\n",
      "2016-11-22    0.099916\n",
      "2016-11-23    0.841928\n",
      "2016-11-24    0.562196\n",
      "2016-11-25    0.139916\n",
      "2016-11-28    0.107842\n",
      "2016-11-29    0.429042\n",
      "2016-11-30    0.273570\n",
      "2016-12-01    0.746798\n",
      "2016-12-02    0.110017\n",
      "2016-12-05    0.184485\n",
      "2016-12-06    0.804095\n",
      "2016-12-07    0.064372\n",
      "2016-12-08    0.085567\n",
      "2016-12-09    0.260044\n",
      "2016-12-12    0.104857\n",
      "2016-12-13    0.658454\n",
      "2016-12-14    0.360480\n",
      "2016-12-15    0.833295\n",
      "2016-12-16    0.587843\n",
      "2016-12-19    0.558454\n",
      "2016-12-20    0.864710\n",
      "2016-12-21    0.357600\n",
      "2016-12-22    0.835543\n",
      "2016-12-23    0.401181\n",
      "2016-12-26    0.156648\n",
      "2016-12-27    0.565843\n",
      "2016-12-28    0.719147\n",
      "2016-12-29    0.162432\n",
      "2016-12-30    0.671077\n",
      "Freq: B, Length: 261, dtype: float64\n"
     ]
    }
   ],
   "source": [
    "import pandas as pd\n",
    "import numpy as np\n",
    "def generate():\n",
    "    # Your code here\n",
    "    DatetimeIndex = pd.date_range(start='2016-01-01', end='2016-12-31',freq='B')\n",
    "    bus_2k16 = pd.Series(index =DatetimeIndex, data =np.random.rand(len(DatetimeIndex)))\n",
    "    \n",
    "    # print out bus_2k16\n",
    "    print (bus_2k16)\n",
    "    return None\n",
    "generate()"
   ]
  },
  {
   "cell_type": "markdown",
   "metadata": {},
   "source": [
    "###  7. For each calendar month in dataframe bus_2k16, from previous problem. Print out the mean of values also find the sum of the values in bus_2k16 for every Sunday."
   ]
  },
  {
   "cell_type": "code",
   "execution_count": 49,
   "metadata": {},
   "outputs": [
    {
     "name": "stdout",
     "output_type": "stream",
     "text": [
      "[0.341747888852503, 0.5817172747039692, 0.3015744127875447, 0.6888641867985206, 0.5636243667721281, 0.5257477069213032, 0.15785297098228823, 0.25932415284239896, 0.8387775201795669, 0.483932268126154, 0.3332468268630694, 0.6952688690854798]\n",
      "0\n"
     ]
    }
   ],
   "source": [
    "import pandas as pd\n",
    "def generate():\n",
    "    # Your code here\n",
    "    DatetimeIndex = pd.date_range(start='2016-01-01', end='2016-12-31',freq='B')\n",
    "    bus_2k16 = pd.Series(index =DatetimeIndex, data =np.random.rand(len(DatetimeIndex)))\n",
    "    #print (bus_2k16)\n",
    "    # print out mean\n",
    "    sundaySum =0\n",
    "    meanSum = []\n",
    "    meanAvg = []\n",
    "    for i in bus_2k16.items():\n",
    "        #print (i)\n",
    "        if i[0].is_month_start:\n",
    "            #print ('Month Start')\n",
    "            meanSum.append(i[1])\n",
    "        elif i[0].is_month_end:\n",
    "            #print ('Month End')\n",
    "            meanSum.append(i[1])\n",
    "            meanAvg.append(sum(meanSum)/len(meanSum))\n",
    "            meanSum=[]\n",
    "        \n",
    "        if i[0].weekday == 6:\n",
    "            sundaySum += i[1]\n",
    "    print (meanAvg)\n",
    "    print (sundaySum)\n",
    "    # print out sum of the values in bus_2k16 for every Sunday.\n",
    "    return None\n",
    "generate()"
   ]
  },
  {
   "cell_type": "markdown",
   "metadata": {},
   "source": [
    "### 8.Given the dataframe df, In the From_To column split each string on the underscore delimiter _ to give a new temporary DataFrame with the correct values. Also standardise the strings so that only the first letter is uppercase (e.g. \"londON\" should become \"London\".) Assign the correct column names to this temporary DataFrame named as temp. Return temp."
   ]
  },
  {
   "cell_type": "code",
   "execution_count": 62,
   "metadata": {},
   "outputs": [
    {
     "name": "stdout",
     "output_type": "stream",
     "text": [
      "            From_To  FlightNumber  RecentDelays              Airline\n",
      "0      LoNDon_paris       10045.0      [23, 47]               KLM(!)\n",
      "1      MAdrid_miLAN           NaN            []    <Air France> (12)\n",
      "2  londON_StockhOlm       10065.0  [24, 43, 87]  (British Airways. )\n",
      "3    Budapest_PaRis           NaN          [13]       12. Air France\n",
      "4   Brussels_londOn       10085.0      [67, 32]          \"Swiss Air\"\n"
     ]
    },
    {
     "data": {
      "text/html": [
       "<div>\n",
       "<style scoped>\n",
       "    .dataframe tbody tr th:only-of-type {\n",
       "        vertical-align: middle;\n",
       "    }\n",
       "\n",
       "    .dataframe tbody tr th {\n",
       "        vertical-align: top;\n",
       "    }\n",
       "\n",
       "    .dataframe thead th {\n",
       "        text-align: right;\n",
       "    }\n",
       "</style>\n",
       "<table border=\"1\" class=\"dataframe\">\n",
       "  <thead>\n",
       "    <tr style=\"text-align: right;\">\n",
       "      <th></th>\n",
       "      <th>FlightNumber</th>\n",
       "      <th>RecentDelays</th>\n",
       "      <th>Airline</th>\n",
       "      <th>From</th>\n",
       "      <th>To</th>\n",
       "    </tr>\n",
       "  </thead>\n",
       "  <tbody>\n",
       "    <tr>\n",
       "      <th>0</th>\n",
       "      <td>10045.0</td>\n",
       "      <td>[23, 47]</td>\n",
       "      <td>KLM(!)</td>\n",
       "      <td>London</td>\n",
       "      <td>Paris</td>\n",
       "    </tr>\n",
       "    <tr>\n",
       "      <th>1</th>\n",
       "      <td>NaN</td>\n",
       "      <td>[]</td>\n",
       "      <td>&lt;Air France&gt; (12)</td>\n",
       "      <td>Madrid</td>\n",
       "      <td>Milan</td>\n",
       "    </tr>\n",
       "    <tr>\n",
       "      <th>2</th>\n",
       "      <td>10065.0</td>\n",
       "      <td>[24, 43, 87]</td>\n",
       "      <td>(British Airways. )</td>\n",
       "      <td>London</td>\n",
       "      <td>Stockholm</td>\n",
       "    </tr>\n",
       "    <tr>\n",
       "      <th>3</th>\n",
       "      <td>NaN</td>\n",
       "      <td>[13]</td>\n",
       "      <td>12. Air France</td>\n",
       "      <td>Budapest</td>\n",
       "      <td>Paris</td>\n",
       "    </tr>\n",
       "    <tr>\n",
       "      <th>4</th>\n",
       "      <td>10085.0</td>\n",
       "      <td>[67, 32]</td>\n",
       "      <td>\"Swiss Air\"</td>\n",
       "      <td>Brussels</td>\n",
       "      <td>London</td>\n",
       "    </tr>\n",
       "  </tbody>\n",
       "</table>\n",
       "</div>"
      ],
      "text/plain": [
       "   FlightNumber  RecentDelays              Airline      From         To\n",
       "0       10045.0      [23, 47]               KLM(!)    London      Paris\n",
       "1           NaN            []    <Air France> (12)    Madrid      Milan\n",
       "2       10065.0  [24, 43, 87]  (British Airways. )    London  Stockholm\n",
       "3           NaN          [13]       12. Air France  Budapest      Paris\n",
       "4       10085.0      [67, 32]          \"Swiss Air\"  Brussels     London"
      ]
     },
     "execution_count": 62,
     "metadata": {},
     "output_type": "execute_result"
    }
   ],
   "source": [
    "import numpy as np\n",
    "df = pd.DataFrame({'From_To': ['LoNDon_paris', 'MAdrid_miLAN', 'londON_StockhOlm', \n",
    "                               'Budapest_PaRis', 'Brussels_londOn'],\n",
    "              'FlightNumber': [10045, np.nan, 10065, np.nan, 10085],\n",
    "              'RecentDelays': [[23, 47], [], [24, 43, 87], [13], [67, 32]],\n",
    "                   'Airline': ['KLM(!)', '<Air France> (12)', '(British Airways. )', \n",
    "                               '12. Air France', '\"Swiss Air\"']})\n",
    "import pandas as pd\n",
    "def generate():\n",
    "    # write your code here\n",
    "    print (df)\n",
    "    temp = df\n",
    "    temp['From'] = temp.apply(lambda x: x['From_To'].split('_')[0].capitalize(), 1)\n",
    "    temp['To'] = temp.apply(lambda x: x['From_To'].split('_')[1].capitalize(), 1)\n",
    "    temp.drop(columns =['From_To'], inplace = True)\n",
    "    return temp# your temporary variable i.e temp.\n",
    "generate()"
   ]
  },
  {
   "cell_type": "markdown",
   "metadata": {},
   "source": [
    "### 9. Given a dataFrame with 10 columns of real numbers. Find that column's label which has the smallest sum? Also count the number of unique rows the dataframe has. \n",
    "Hint: use idxmin method."
   ]
  },
  {
   "cell_type": "code",
   "execution_count": 71,
   "metadata": {},
   "outputs": [
    {
     "name": "stdout",
     "output_type": "stream",
     "text": [
      "          q         r         s         t         u         v         w  \\\n",
      "0  0.752911  0.360248  0.790636  0.611201  0.357219  0.949928  0.008323   \n",
      "1  0.570741  0.522263  0.818732  0.080736  0.611153  0.077627  0.573451   \n",
      "2  0.108368  0.335420  0.119462  0.249796  0.608168  0.263238  0.530200   \n",
      "3  0.975172  0.437942  0.934582  0.966548  0.847611  0.718073  0.144811   \n",
      "\n",
      "          x         y         z  \n",
      "0  0.330979  0.214091  0.167392  \n",
      "1  0.530861  0.521119  0.644926  \n",
      "2  0.112460  0.490164  0.962604  \n",
      "3  0.771953  0.459426  0.322786  \n",
      "{'q': 2.4071924777247204, 'r': 1.6558725978970532, 's': 2.663411513098115, 't': 1.908282428211911, 'u': 2.4241507605183816, 'v': 2.008866167042805, 'w': 1.256784858502297, 'x': 1.7462524703115, 'y': 1.6848001486659883, 'z': 2.097707233419508}\n",
      "w\n",
      "q    4\n",
      "r    4\n",
      "s    4\n",
      "t    4\n",
      "u    4\n",
      "v    4\n",
      "w    4\n",
      "x    4\n",
      "y    4\n",
      "z    4\n",
      "dtype: int64\n"
     ]
    }
   ],
   "source": [
    "import numpy as np\n",
    "import pandas as pd\n",
    "df = pd.DataFrame(np.random.random(size=(4, 10)), columns=list('qrstuvwxyz'))\n",
    "print(df)\n",
    "def generate():\n",
    "    # your code here\n",
    "    #print(df.columns)\n",
    "    sumDict = {}\n",
    "    minSumVal = 0\n",
    "    minSumCol = ''\n",
    "    for col in df.columns:\n",
    "        sumDict[col]= sum(df[col])\n",
    "        if minSumVal == 0:\n",
    "            minSumCol = col\n",
    "            minSumVal = sum(df[col])\n",
    "        elif minSumVal > sum(df[col]):\n",
    "            minSumCol = col\n",
    "            minSumVal = sum(df[col])\n",
    "    print (sumDict)\n",
    "    print (minSumCol)\n",
    "    # print out that column's label which has the smallest sum\n",
    "    # Also count the number of unique rows the dataframe has.\n",
    "    print (df.drop_duplicates().count())\n",
    "    return None\n",
    "generate()"
   ]
  },
  {
   "cell_type": "markdown",
   "metadata": {},
   "source": [
    "### 10. Given a dataFrame df with a column 'int' of integers. Print out the dataframe with filtered out rows which contain the same integer as the row immediately above. Also print out the dataframe after subtracting the mean of all integers from each element .\n",
    "Hint: use drop_duplicates and sub methods"
   ]
  },
  {
   "cell_type": "code",
   "execution_count": 74,
   "metadata": {},
   "outputs": [
    {
     "name": "stdout",
     "output_type": "stream",
     "text": [
      "    int\n",
      "0     1\n",
      "1     2\n",
      "2     2\n",
      "3     3\n",
      "4     4\n",
      "5     5\n",
      "6     5\n",
      "7     5\n",
      "8     6\n",
      "9     7\n",
      "10    7\n",
      "    int\n",
      "2     2\n",
      "6     5\n",
      "7     5\n",
      "10    7\n",
      "0    -3.272727\n",
      "1    -2.272727\n",
      "2    -2.272727\n",
      "3    -1.272727\n",
      "4    -0.272727\n",
      "5     0.727273\n",
      "6     0.727273\n",
      "7     0.727273\n",
      "8     1.727273\n",
      "9     2.727273\n",
      "10    2.727273\n",
      "Name: int, dtype: float64\n"
     ]
    }
   ],
   "source": [
    "import pandas as pd\n",
    "df = pd.DataFrame({'int': [1, 2, 2, 3, 4, 5, 5, 5, 6, 7, 7]})\n",
    "def generate():\n",
    "    # your code here\n",
    "    print (df)\n",
    "    # Print out the dataframe with filtered out rows which contain the same integer as the row immediately above\n",
    "    print (df[df['int'] == df['int'].shift()])\n",
    "    # Print out the dataframe after subtracting the mean of all integers from each element\n",
    "    print (df['int'] - df['int'].mean())\n",
    "    return None\n",
    "generate()"
   ]
  },
  {
   "cell_type": "code",
   "execution_count": null,
   "metadata": {},
   "outputs": [],
   "source": []
  }
 ],
 "metadata": {
  "kernelspec": {
   "display_name": "Python 3",
   "language": "python",
   "name": "python3"
  },
  "language_info": {
   "codemirror_mode": {
    "name": "ipython",
    "version": 3
   },
   "file_extension": ".py",
   "mimetype": "text/x-python",
   "name": "python",
   "nbconvert_exporter": "python",
   "pygments_lexer": "ipython3",
   "version": "3.6.5"
  }
 },
 "nbformat": 4,
 "nbformat_minor": 2
}
