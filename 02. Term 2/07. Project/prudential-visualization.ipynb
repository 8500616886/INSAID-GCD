{
 "cells": [
  {
   "cell_type": "code",
   "execution_count": null,
   "metadata": {},
   "outputs": [],
   "source": [
    "import pandas as pd\n",
    "from pandas import Series,DataFrame\n",
    "\n",
    "import numpy as np\n",
    "%matplotlib inline\n",
    "import matplotlib.pyplot as plt\n",
    "\n",
    "import seaborn as sns"
   ]
  },
  {
   "cell_type": "code",
   "execution_count": null,
   "metadata": {},
   "outputs": [],
   "source": [
    "# get training & test csv files as a DataFrame\n",
    "train_df = pd.read_csv(\"../input/train.csv\" )\n",
    "test_df    = pd.read_csv(\"../input/test.csv\")\n",
    "\n",
    "# preview the data\n",
    "train_df.head()"
   ]
  },
  {
   "cell_type": "code",
   "execution_count": null,
   "metadata": {},
   "outputs": [],
   "source": [
    "test_df.head()"
   ]
  },
  {
   "cell_type": "code",
   "execution_count": null,
   "metadata": {},
   "outputs": [],
   "source": [
    "fig, axis1 = plt.subplots(1,1,figsize=(20,5))\n",
    "sns.countplot(x='Response', data=train_df, ax=axis1, order=[1,2,3,4,5,6,7,8])"
   ]
  },
  {
   "cell_type": "markdown",
   "metadata": {},
   "source": [
    "Employment_Info_2\n",
    "Responses 1-4 look a bit different than 5-7 and 8 looks different than the rest"
   ]
  },
  {
   "cell_type": "code",
   "execution_count": null,
   "metadata": {},
   "outputs": [],
   "source": [
    "fig, axis1 = plt.subplots(1,1,figsize=(20,5))\n",
    "sns.countplot(x='Employment_Info_2', data=train_df, ax=axis1)"
   ]
  },
  {
   "cell_type": "code",
   "execution_count": null,
   "metadata": {},
   "outputs": [],
   "source": [
    "fig, axis1 = plt.subplots(1,1,figsize=(20,5))\n",
    "sns.countplot(x='Employment_Info_2', hue=\"Response\", data=train_df, ax=axis1, hue_order=[1,2,3,4,5,6,7,8])"
   ]
  },
  {
   "cell_type": "code",
   "execution_count": null,
   "metadata": {},
   "outputs": [],
   "source": [
    "g = sns.FacetGrid(train_df, col=\"Response\", col_wrap=2, size=5, col_order=[1,2,3,4,5,6,7,8])\n",
    "g.map(sns.countplot, \"Employment_Info_2\")"
   ]
  },
  {
   "cell_type": "markdown",
   "metadata": {},
   "source": [
    "\n",
    "Age, Height, Weight, BMI¶\n",
    "Appears to be significant difference between category 1 and category 8. Categories 3,4,5 have smaller data sets which might inhibit a nice gradient between categories 1 and 8."
   ]
  },
  {
   "cell_type": "code",
   "execution_count": null,
   "metadata": {},
   "outputs": [],
   "source": [
    "facet = sns.FacetGrid(train_df, hue=\"Response\",aspect=4, hue_order=[1,2,3,4,5,6,7,8], palette=\"RdBu\")\n",
    "facet.map(sns.kdeplot,'Ins_Age')\n",
    "facet.set(xlim=(0, train_df['Ins_Age'].max()))\n",
    "facet.add_legend()"
   ]
  },
  {
   "cell_type": "code",
   "execution_count": null,
   "metadata": {},
   "outputs": [],
   "source": [
    "facet = sns.FacetGrid(train_df, hue=\"Response\",aspect=4, hue_order=[1,2,3,4,5,6,7,8], palette=\"RdBu\")\n",
    "facet.map(sns.kdeplot,'Ht')\n",
    "facet.set(xlim=(0.4, train_df['Ht'].max()))\n",
    "facet.add_legend()"
   ]
  },
  {
   "cell_type": "code",
   "execution_count": null,
   "metadata": {},
   "outputs": [],
   "source": [
    "facet = sns.FacetGrid(train_df, hue=\"Response\",aspect=4, hue_order=[1,2,3,4,5,6,7,8], palette=\"RdBu\")\n",
    "facet.map(sns.kdeplot,'Ht')\n",
    "facet.set(xlim=(0.4, train_df['Ht'].max()))\n",
    "facet.add_legend()"
   ]
  },
  {
   "cell_type": "code",
   "execution_count": null,
   "metadata": {},
   "outputs": [],
   "source": [
    "facet = sns.FacetGrid(train_df, hue=\"Response\",aspect=4, hue_order=[1,2,3,4,5,6,7,8], palette=\"RdBu\")\n",
    "facet.map(sns.kdeplot,'BMI')\n",
    "facet.set(xlim=(0, 1.0))\n",
    "facet.add_legend()"
   ]
  },
  {
   "cell_type": "markdown",
   "metadata": {},
   "source": [
    "BMI distribution¶\n",
    "Check out the wide distribution on category 8 vs category 1. Notice the fat tail on Category 1."
   ]
  },
  {
   "cell_type": "code",
   "execution_count": null,
   "metadata": {},
   "outputs": [],
   "source": [
    "ax = sns.boxplot(x=\"Response\", y=\"BMI\", data=train_df, order=[1,2,3,4,5,6,7,8], palette=\"RdBu\")\n",
    "ax.set(ylim=(0, 1.1))"
   ]
  },
  {
   "cell_type": "code",
   "execution_count": null,
   "metadata": {},
   "outputs": [],
   "source": [
    "fig, ax = plt.subplots(1,1,figsize=(14,8))\n",
    "cm = plt.cm.get_cmap('RdBu')\n",
    "ax = plt.scatter(train_df[\"Ins_Age\"], train_df[\"BMI\"], c=train_df[\"Response\"], alpha=0.5, cmap=cm)\n",
    "plt.xlim=(0, 1.0)\n",
    "plt.ylim=(0, 1.0)\n",
    "plt.title(\"Age vs BMI\")\n",
    "plt.xlabel(\"Age\")\n",
    "plt.ylabel(\"BMI\")\n",
    "cbar=plt.colorbar(ax)\n",
    "cbar.ax.set_ylabel('Response', rotation=270)"
   ]
  },
  {
   "cell_type": "markdown",
   "metadata": {},
   "source": [
    "\n",
    "Insured Info¶\n",
    "Appears to be a factor in helping to determine rating"
   ]
  },
  {
   "cell_type": "code",
   "execution_count": null,
   "metadata": {},
   "outputs": [],
   "source": [
    "fig, axis1 = plt.subplots(1,1,figsize=(20,5))\n",
    "sns.countplot(x='InsuredInfo_6', hue=\"Response\", data=train_df, ax=axis1, hue_order=[1,2,3,4,5,6,7,8], palette=\"RdBu\")"
   ]
  },
  {
   "cell_type": "markdown",
   "metadata": {},
   "source": [
    "Insurance History¶\n",
    "Insurance_History_5 seems to be somewhat predictive in excluding from categories 6,7,8"
   ]
  },
  {
   "cell_type": "code",
   "execution_count": null,
   "metadata": {},
   "outputs": [],
   "source": [
    "facet = sns.FacetGrid(train_df, hue=\"Response\",aspect=4, hue_order=[1,2,3,4,5,6,7,8], palette=\"RdBu\")\n",
    "facet.map(sns.kdeplot,'Insurance_History_5')\n",
    "facet.set(xlim=(0, 0.01))\n",
    "facet.add_legend()"
   ]
  },
  {
   "cell_type": "markdown",
   "metadata": {},
   "source": [
    "\n",
    "Family History¶\n",
    "Family_Hist_1 seems like it is a good factor that could be helpful in selecting for Category 8"
   ]
  },
  {
   "cell_type": "code",
   "execution_count": null,
   "metadata": {},
   "outputs": [],
   "source": [
    "fig, axis1 = plt.subplots(1,1,figsize=(20,5))\n",
    "sns.countplot(x='Family_Hist_1', hue=\"Response\", data=train_df, ax=axis1, hue_order=[1,2,3,4,5,6,7,8])"
   ]
  }
 ],
 "metadata": {
  "kernelspec": {
   "display_name": "Python 3",
   "language": "python",
   "name": "python3"
  },
  "language_info": {
   "codemirror_mode": {
    "name": "ipython",
    "version": 3
   },
   "file_extension": ".py",
   "mimetype": "text/x-python",
   "name": "python",
   "nbconvert_exporter": "python",
   "pygments_lexer": "ipython3",
   "version": "3.6.5"
  }
 },
 "nbformat": 4,
 "nbformat_minor": 1
}
