{
 "cells": [
  {
   "cell_type": "code",
   "execution_count": null,
   "metadata": {},
   "outputs": [],
   "source": [
    "import pandas as pd \n",
    "import numpy as np\n",
    "\n",
    "import matplotlib.pyplot as plt \n",
    "%matplotlib inline"
   ]
  },
  {
   "cell_type": "code",
   "execution_count": null,
   "metadata": {},
   "outputs": [],
   "source": [
    "train = pd.read_csv(\"../input/train.csv\")\n",
    "test = pd.read_csv(\"../input/test.csv\")"
   ]
  },
  {
   "cell_type": "code",
   "execution_count": null,
   "metadata": {},
   "outputs": [],
   "source": [
    "# See nan proportion per columns\n",
    "\n",
    "print('proportion of nan values in train set : ')\n",
    "print(train.isnull().sum(axis = 0).sort_values(ascending = False).head(14)/len(train))\n",
    "print('\\n')\n",
    "print('proportion of nan values in test set : ')\n",
    "print(test.isnull().sum(axis = 0).sort_values(ascending = False).head(14)/len(train))"
   ]
  },
  {
   "cell_type": "markdown",
   "metadata": {},
   "source": [
    "Large proportion of nan values for family hist dans medical hist"
   ]
  },
  {
   "cell_type": "code",
   "execution_count": null,
   "metadata": {},
   "outputs": [],
   "source": [
    "# Influence of BMI on risk level \n",
    "data = []\n",
    "for i in range(1,9): \n",
    "    data.append(train.BMI[train.Response == i])\n",
    "plt.figure(figsize = (15,8))\n",
    "plt.subplot(2,2,1)\n",
    "plt.boxplot(data)\n",
    "plt.title('Response VS BMI')\n",
    "\n",
    "data = []\n",
    "for i in range(1,9): \n",
    "    data.append(train.Ins_Age[train.Response == i])\n",
    "plt.subplot(2,2,2)\n",
    "plt.boxplot(data)\n",
    "plt.title('Response VS Ins_Age')\n",
    "\n",
    "data = []\n",
    "for i in range(1,9): \n",
    "    data.append(train.Wt[train.Response == i])\n",
    "plt.subplot(2,2,3)\n",
    "plt.boxplot(data)\n",
    "plt.title('Response VS weight')\n",
    "\n",
    "data = []\n",
    "for i in range(1,8): \n",
    "    data.append(train.Ht[train.Response == i])\n",
    "plt.subplot(2,2,4)\n",
    "plt.boxplot(data)\n",
    "plt.title('Response VS height')\n",
    "\n"
   ]
  },
  {
   "cell_type": "code",
   "execution_count": null,
   "metadata": {},
   "outputs": [],
   "source": [
    "# Study of employement\n",
    "#Continuous variables  1-4-6\n",
    "plt.figure(figsize = (15,8))\n",
    "\n",
    "data  = []\n",
    "for i in range(1,9):\n",
    "    x = train.Employment_Info_1[train.Response == i]\n",
    "    data.append(np.sqrt(x[~np.isnan(x)]))\n",
    "\n",
    "plt.subplot(2,2,1)\n",
    "plt.boxplot(data)\n",
    "plt.title('Response VS Employement info 1')\n",
    "\n",
    "data  = []\n",
    "for i in range(1,9):\n",
    "    x = train.Employment_Info_4[train.Response == i]\n",
    "    data.append(x[~np.isnan(x)])\n",
    "\n",
    "plt.subplot(2,2,2)\n",
    "plt.boxplot(data)\n",
    "plt.title('Response VS Employement info 4')\n",
    "\n",
    "data  = []\n",
    "for i in range(1,9):\n",
    "    x = train.Employment_Info_6[train.Response == i]\n",
    "    data.append(x[~np.isnan(x)])\n",
    "\n",
    "plt.subplot(2,2,3)\n",
    "plt.boxplot(data)\n",
    "plt.title('Response VS Employement info 6')"
   ]
  },
  {
   "cell_type": "code",
   "execution_count": null,
   "metadata": {},
   "outputs": [],
   "source": [
    "#plot histogram of log of employement info 1\n",
    "plt.figure(figsize = (15,9))\n",
    "for i in range(1,9): \n",
    "    plt.subplot(3,3,i)\n",
    "    x = train.Employment_Info_1[train.Response==i]\n",
    "    x = x[~np.isnan(x)]\n",
    "    x = [i for i in x]\n",
    "    plt.hist(x, bins = 50)\n",
    "    plt.title('Response '+ str(i))"
   ]
  },
  {
   "cell_type": "code",
   "execution_count": null,
   "metadata": {},
   "outputs": [],
   "source": [
    "#plot histogram of log of employement info 4\n",
    "plt.figure(figsize = (15,9))\n",
    "for i in range(1,9): \n",
    "    plt.subplot(3,3,i)\n",
    "    x = train.Employment_Info_4[train.Response==i]\n",
    "    x = x[~np.isnan(x)]\n",
    "    x = ([i for i in x if i!=0])\n",
    "    plt.hist(np.log(x), bins = 50)\n",
    "    plt.title('Response '+ str(i))"
   ]
  },
  {
   "cell_type": "code",
   "execution_count": null,
   "metadata": {},
   "outputs": [],
   "source": [
    "data = []\n",
    "plt.figure(figsize = (15,9))\n",
    "for i in range(1,9): \n",
    "    x = train.Employment_Info_4[train.Response==i]\n",
    "    x = x[~np.isnan(x)]\n",
    "    x = ([i for i in x if i!=0])\n",
    "    x = np.log(x)\n",
    "    data.append(x)\n",
    "plt.boxplot(data)\n",
    "print('')"
   ]
  },
  {
   "cell_type": "code",
   "execution_count": null,
   "metadata": {},
   "outputs": [],
   "source": [
    "# Boxplot for variables : Family_Hist_2, Family_Hist_3, Family_Hist_4, Family_Hist_5\n",
    "\n",
    "plt.figure(figsize = (15,8))\n",
    "\n",
    "data  = []\n",
    "for i in range(1,9):\n",
    "    x = train.Family_Hist_2[train.Response == i]\n",
    "    data.append(x[~np.isnan(x)])\n",
    "plt.subplot(2,2,1)\n",
    "plt.boxplot(data)\n",
    "plt.title('Response VS Family_Hist_2')\n",
    "\n",
    "data  = []\n",
    "for i in range(1,9):\n",
    "    x = train.Family_Hist_3[train.Response == i]\n",
    "    data.append(x[~np.isnan(x)])\n",
    "\n",
    "plt.subplot(2,2,2)\n",
    "plt.boxplot(data)\n",
    "plt.title('Response VS Family_Hist_3')\n",
    "\n",
    "data  = []\n",
    "for i in range(1,9):\n",
    "    x = train.Family_Hist_4[train.Response == i]\n",
    "    data.append(x[~np.isnan(x)])\n",
    "\n",
    "plt.subplot(2,2,3)\n",
    "plt.boxplot(data)\n",
    "plt.title('Response VS Family_Hist_4')\n",
    "          \n",
    "data  = []\n",
    "for i in range(1,9):\n",
    "    x = train.Family_Hist_5[train.Response == i]\n",
    "    data.append(x[~np.isnan(x)])\n",
    "\n",
    "plt.subplot(2,2,4)\n",
    "plt.boxplot(data)\n",
    "plt.title('Response VS Family_Hist_5')\n"
   ]
  },
  {
   "cell_type": "code",
   "execution_count": null,
   "metadata": {},
   "outputs": [],
   "source": [
    "#plot histogram of log of Family_Hist_2\n",
    "plt.figure(figsize = (15,9))\n",
    "for i in range(1,9): \n",
    "    plt.subplot(3,3,i)\n",
    "    x = train.Family_Hist_2[train.Response==i]\n",
    "    x.hist(bins = 50)\n",
    "    x = x[~np.isnan(x)]\n",
    "    plt.title('Response '+ str(i))"
   ]
  },
  {
   "cell_type": "code",
   "execution_count": null,
   "metadata": {},
   "outputs": [],
   "source": [
    "# Discrete variables Medical_History_1, Medical_History_10, \n",
    "# Medical_History_15, Medical_History_24, Medical_History_32\n",
    "\n",
    "plt.figure(figsize = (15,8))\n",
    "\n",
    "data  = []\n",
    "for i in range(1,9):\n",
    "    x = train.Medical_History_1[train.Response == i]\n",
    "    data.append(np.log1p(x[~np.isnan(x)]))\n",
    "#Apply a log1p on Medical history 1\n",
    "plt.subplot(3,2,1)\n",
    "plt.boxplot(data)\n",
    "plt.title('Response VS Medical_History_1')\n",
    "\n",
    "data  = []\n",
    "for i in range(1,9):\n",
    "    x = train.Medical_History_10[train.Response == i]\n",
    "    data.append(x[~np.isnan(x)])\n",
    "\n",
    "plt.subplot(3,2,2)\n",
    "plt.boxplot(data)\n",
    "plt.title('Response VS Medical_History_10')\n",
    "\n",
    "data  = []\n",
    "for i in range(1,9):\n",
    "    x = train.Medical_History_15[train.Response == i]\n",
    "    data.append(x[~np.isnan(x)])\n",
    "\n",
    "plt.subplot(3,2,3)\n",
    "plt.boxplot(data)\n",
    "plt.title('Response VS Medical_History_15')\n",
    "          \n",
    "data  = []\n",
    "for i in range(1,9):\n",
    "    x = train.Medical_History_24[train.Response == i]\n",
    "    data.append(x[~np.isnan(x)])\n",
    "\n",
    "plt.subplot(3,2,4)\n",
    "plt.boxplot(data)\n",
    "plt.title('Response VS Medical_History_24')\n",
    "\n",
    "data  = []\n",
    "for i in range(1,9):\n",
    "    x = train.Medical_History_32[train.Response == i]\n",
    "    data.append(x[~np.isnan(x)])\n",
    "\n",
    "plt.subplot(3,2,5)\n",
    "plt.boxplot(data)\n",
    "plt.title('Response VS Medical_History_32')\n"
   ]
  },
  {
   "cell_type": "code",
   "execution_count": null,
   "metadata": {},
   "outputs": [],
   "source": [
    "# Feature selection of catégorical variables \n",
    "# Product_Info_1, Product_Info_2, Product_Info_3, Product_Info_5, Product_Info_6, Product_Info_7\n",
    "print('Values for product info 1 :{}'.format(train.Product_Info_1.unique().shape))\n",
    "print('Values for product info 2 :{}'.format(train.Product_Info_2.unique().shape))\n",
    "print('Values for product info 3 :{}'.format(train.Product_Info_3.unique().shape))\n",
    "print('Values for product info 5 :{}'.format(train.Product_Info_5.unique().shape))\n",
    "print('Values for product info 6 :{}'.format(train.Product_Info_6.unique().shape))\n",
    "print('Values for product info 7 :{}'.format(train.Product_Info_7.unique().shape))"
   ]
  },
  {
   "cell_type": "code",
   "execution_count": null,
   "metadata": {},
   "outputs": [],
   "source": [
    "print(train.pivot_table(columns = 'Response', index = 'Product_Info_1', values = 'Id', aggfunc = len))"
   ]
  },
  {
   "cell_type": "code",
   "execution_count": null,
   "metadata": {},
   "outputs": [],
   "source": [
    "print(train.pivot_table(columns = 'Response', index = 'Product_Info_5', values = 'Id', aggfunc = len))"
   ]
  },
  {
   "cell_type": "code",
   "execution_count": null,
   "metadata": {},
   "outputs": [],
   "source": [
    "print(train.pivot_table(columns = 'Response', index = 'Product_Info_6', values = 'Id', aggfunc = len))"
   ]
  },
  {
   "cell_type": "code",
   "execution_count": null,
   "metadata": {},
   "outputs": [],
   "source": [
    "print(train.pivot_table(columns = 'Response', index = 'Product_Info_7', values = 'Id', aggfunc = len, fill_value = 0))"
   ]
  },
  {
   "cell_type": "code",
   "execution_count": null,
   "metadata": {},
   "outputs": [],
   "source": []
  }
 ],
 "metadata": {
  "kernelspec": {
   "display_name": "Python 3",
   "language": "python",
   "name": "python3"
  },
  "language_info": {
   "codemirror_mode": {
    "name": "ipython",
    "version": 3
   },
   "file_extension": ".py",
   "mimetype": "text/x-python",
   "name": "python",
   "nbconvert_exporter": "python",
   "pygments_lexer": "ipython3",
   "version": "3.6.5"
  }
 },
 "nbformat": 4,
 "nbformat_minor": 1
}
